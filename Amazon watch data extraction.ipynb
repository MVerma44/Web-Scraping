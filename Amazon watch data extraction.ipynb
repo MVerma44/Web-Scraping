{
 "cells": [
  {
   "cell_type": "code",
   "execution_count": 1,
   "id": "d0eeb392",
   "metadata": {},
   "outputs": [],
   "source": [
    "import pandas as pd\n",
    "import numpy as np\n",
    "import requests as re\n",
    "from bs4 import BeautifulSoup\n",
    "from selenium import webdriver\n",
    "from selenium.webdriver.common.by import By\n",
    "from webdriver_manager.chrome import ChromeDriverManager\n",
    "from nltk.tokenize import word_tokenize\n",
    "import string\n",
    "from selenium.common.exceptions import NoSuchElementException\n",
    "import pandas as pd"
   ]
  },
  {
   "cell_type": "code",
   "execution_count": 2,
   "id": "bb633d82",
   "metadata": {},
   "outputs": [],
   "source": [
    "url = 'https://www.amazon.in/s?k=watches+for+men&crid=1PTGMCSTXKXQN&sprefix=watches%2Caps%2C245&ref=nb_sb_ss_w_hit-vc-p0_watches-for-men_k0_1_7'\n",
    "# url = 'https://www.amazon.in/s?k=mobile+phones&crid=2O37RE7RDWWVL&sprefix=mobile+phone%2Caps%2C227&ref=nb_sb_noss_1'"
   ]
  },
  {
   "cell_type": "code",
   "execution_count": 3,
   "id": "fcb3c912",
   "metadata": {},
   "outputs": [],
   "source": [
    "driver = webdriver.Chrome(executable_path=ChromeDriverManager().install())\n",
    "driver.get(url)\n",
    "\n",
    "# driver.quit()"
   ]
  },
  {
   "cell_type": "code",
   "execution_count": 4,
   "id": "fb0b21c9",
   "metadata": {},
   "outputs": [
    {
     "data": {
      "text/plain": [
       "'Amazon.in : watches for men'"
      ]
     },
     "execution_count": 4,
     "metadata": {},
     "output_type": "execute_result"
    }
   ],
   "source": [
    "driver.title"
   ]
  },
  {
   "cell_type": "code",
   "execution_count": 5,
   "id": "872081e2",
   "metadata": {},
   "outputs": [],
   "source": [
    "# title = BeautifulSoup(driver.title, 'html.parser')\n",
    "# title"
   ]
  },
  {
   "cell_type": "code",
   "execution_count": 6,
   "id": "152b6d3a",
   "metadata": {},
   "outputs": [
    {
     "data": {
      "text/plain": [
       "'Citizen'"
      ]
     },
     "execution_count": 6,
     "metadata": {},
     "output_type": "execute_result"
    }
   ],
   "source": [
    "s = driver.find_element_by_xpath(\"(//span[@class='a-size-base-plus a-color-base'])[1]\")\n",
    "s.text"
   ]
  },
  {
   "cell_type": "code",
   "execution_count": 7,
   "id": "0a26de40",
   "metadata": {},
   "outputs": [
    {
     "data": {
      "text/plain": [
       "['Citizen',\n",
       " 'Citizen',\n",
       " 'Tommy Hilfiger',\n",
       " 'Tommy Hilfiger',\n",
       " 'Casio',\n",
       " 'TIMEWEAR',\n",
       " 'LOUIS DEVIN',\n",
       " 'NIBOSI',\n",
       " 'Fire-Boltt']"
      ]
     },
     "execution_count": 7,
     "metadata": {},
     "output_type": "execute_result"
    }
   ],
   "source": [
    "# (//span[@class=\"a-size-base-plus a-color-base\"])[1]]\n",
    "\n",
    "items = 10\n",
    "\n",
    "brand = []\n",
    "\n",
    "for i in range(1, items):\n",
    "    sa = driver.find_element_by_xpath(f\"(//span[@class='a-size-base-plus a-color-base'])[{i}]\")\n",
    "    brand.append(sa.text)\n",
    "#     print(sa.text)\n",
    "\n",
    "brand"
   ]
  },
  {
   "cell_type": "code",
   "execution_count": 8,
   "id": "5e45ad22",
   "metadata": {},
   "outputs": [
    {
     "data": {
      "text/plain": [
       "[\"Quartz Analog Black Dial Men's Watch-BI5098-58E\",\n",
       " \"Quartz Analog Blue Dial Men's Watch-BI5096-53L\",\n",
       " 'Chronograph Analog Watch For Men - NCAK3344TPRG',\n",
       " 'Bank Blue Men Watch TH1791721/NCTH1791721',\n",
       " \"Vintage Series Digital Grey Dial Men's Watch-A-158WA-1Q\",\n",
       " 'Analog Day Date Functioning Stainless Steel Chain Watch for Men',\n",
       " 'Silicone Strap Analog Wrist Watch for Men (Black/Blue/Red) | LD-BK054',\n",
       " 'Watch for Men Fashion Business Men Watches Ultra-Thin Waterproof Chronograph Quartz Watches with Stainless Steel Band',\n",
       " 'Fire-Boltt Ninja Call Pro Plus 1.83\" Smart Watch with Bluetooth Calling, AI Voice Assistance, 100 Sports Modes IP67 Rating, 240 * 280 Pixel High Resolution (Black)']"
      ]
     },
     "execution_count": 8,
     "metadata": {},
     "output_type": "execute_result"
    }
   ],
   "source": [
    "model = []\n",
    "# a-size-medium a-color-base a-text-normal # Mobile\n",
    "for i in range(1, items):\n",
    "    mod = driver.find_element_by_xpath(f\"(//span[@class='a-size-base-plus a-color-base a-text-normal'])[{i}]\")\n",
    "    model.append(mod.text)\n",
    "    \n",
    "model"
   ]
  },
  {
   "cell_type": "code",
   "execution_count": 9,
   "id": "baef287d",
   "metadata": {},
   "outputs": [
    {
     "data": {
      "text/plain": [
       "['8,434', '8,444', '8,799', '11,996', '1,441', '319', '397', '2,599', '1,699']"
      ]
     },
     "execution_count": 9,
     "metadata": {},
     "output_type": "execute_result"
    }
   ],
   "source": [
    "price = []\n",
    "\n",
    "for i in range(1, items):\n",
    "    try:\n",
    "        pri = driver.find_element_by_xpath(f'(//div[@class=\"a-row a-size-base a-color-base\"]//span[@class=\"a-price-whole\"])[{i}]')\n",
    "        price.append(pri.text)\n",
    "    \n",
    "    except NoSuchElementException:\n",
    "        continue\n",
    "\n",
    "price"
   ]
  },
  {
   "cell_type": "code",
   "execution_count": 10,
   "id": "f0339e6c",
   "metadata": {},
   "outputs": [],
   "source": [
    "mrp = []\n",
    "\n",
    "for i in range(1, items):\n",
    "    try:\n",
    "        mrp_ = driver.find_element_by_xpath(f'(//span[@class=\"a-price a-text-price puis-light-weight-text\"])[{i}]')\n",
    "        mrp.append(mrp_.text)\n",
    "    except NoSuchElementException:\n",
    "        continue\n",
    "        "
   ]
  },
  {
   "cell_type": "code",
   "execution_count": 11,
   "id": "4c8871a8",
   "metadata": {},
   "outputs": [
    {
     "data": {
      "text/plain": [
       "[]"
      ]
     },
     "execution_count": 11,
     "metadata": {},
     "output_type": "execute_result"
    }
   ],
   "source": [
    "mrp"
   ]
  },
  {
   "cell_type": "code",
   "execution_count": 12,
   "id": "411495b3",
   "metadata": {},
   "outputs": [],
   "source": [
    "product_ratings = []\n",
    "# product_ratings_num = []\n",
    "\n",
    "for i in range(1, (items*2)-1):\n",
    "    if i%2!=0:\n",
    "        ratings_box = driver.find_elements_by_xpath(f'(//div[@class=\"a-row a-size-small\"]/span)[{i}]')\n",
    "        if ratings_box != []:\n",
    "            ratings = ratings_box[0].get_attribute('aria-label')\n",
    "            ratings = ratings.split(' ')[0]\n",
    "        else:\n",
    "            ratings = 0\n",
    "\n",
    "        product_ratings.append(ratings)"
   ]
  },
  {
   "cell_type": "code",
   "execution_count": 13,
   "id": "9522de0a",
   "metadata": {},
   "outputs": [
    {
     "data": {
      "text/plain": [
       "['4.2', '4.3', '4.0', '4.4', '3.8', '4.0', '3.8', '4.3', '4.1']"
      ]
     },
     "execution_count": 13,
     "metadata": {},
     "output_type": "execute_result"
    }
   ],
   "source": [
    "product_ratings"
   ]
  },
  {
   "cell_type": "code",
   "execution_count": 14,
   "id": "666a8a05",
   "metadata": {},
   "outputs": [],
   "source": [
    "# r = driver.find_elements_by_xpath(f'(//div[@class=\"a-row a-size-small\"]/span)')\n",
    "# r.ge"
   ]
  },
  {
   "cell_type": "code",
   "execution_count": 15,
   "id": "00dcb8e1",
   "metadata": {},
   "outputs": [],
   "source": [
    "data = {'Brand':brand, 'Model':model, 'Price':price, 'Rating':product_ratings}\n",
    "\n",
    "df = pd.DataFrame(data)"
   ]
  },
  {
   "cell_type": "code",
   "execution_count": 16,
   "id": "64ad27c2",
   "metadata": {},
   "outputs": [
    {
     "data": {
      "text/html": [
       "<div>\n",
       "<style scoped>\n",
       "    .dataframe tbody tr th:only-of-type {\n",
       "        vertical-align: middle;\n",
       "    }\n",
       "\n",
       "    .dataframe tbody tr th {\n",
       "        vertical-align: top;\n",
       "    }\n",
       "\n",
       "    .dataframe thead th {\n",
       "        text-align: right;\n",
       "    }\n",
       "</style>\n",
       "<table border=\"1\" class=\"dataframe\">\n",
       "  <thead>\n",
       "    <tr style=\"text-align: right;\">\n",
       "      <th></th>\n",
       "      <th>Brand</th>\n",
       "      <th>Model</th>\n",
       "      <th>Price</th>\n",
       "      <th>Rating</th>\n",
       "    </tr>\n",
       "  </thead>\n",
       "  <tbody>\n",
       "    <tr>\n",
       "      <th>0</th>\n",
       "      <td>Citizen</td>\n",
       "      <td>Quartz Analog Black Dial Men's Watch-BI5098-58E</td>\n",
       "      <td>8,434</td>\n",
       "      <td>4.2</td>\n",
       "    </tr>\n",
       "    <tr>\n",
       "      <th>1</th>\n",
       "      <td>Citizen</td>\n",
       "      <td>Quartz Analog Blue Dial Men's Watch-BI5096-53L</td>\n",
       "      <td>8,444</td>\n",
       "      <td>4.3</td>\n",
       "    </tr>\n",
       "    <tr>\n",
       "      <th>2</th>\n",
       "      <td>Tommy Hilfiger</td>\n",
       "      <td>Chronograph Analog Watch For Men - NCAK3344TPRG</td>\n",
       "      <td>8,799</td>\n",
       "      <td>4.0</td>\n",
       "    </tr>\n",
       "    <tr>\n",
       "      <th>3</th>\n",
       "      <td>Tommy Hilfiger</td>\n",
       "      <td>Bank Blue Men Watch TH1791721/NCTH1791721</td>\n",
       "      <td>11,996</td>\n",
       "      <td>4.4</td>\n",
       "    </tr>\n",
       "    <tr>\n",
       "      <th>4</th>\n",
       "      <td>Casio</td>\n",
       "      <td>Vintage Series Digital Grey Dial Men's Watch-A...</td>\n",
       "      <td>1,441</td>\n",
       "      <td>3.8</td>\n",
       "    </tr>\n",
       "    <tr>\n",
       "      <th>5</th>\n",
       "      <td>TIMEWEAR</td>\n",
       "      <td>Analog Day Date Functioning Stainless Steel Ch...</td>\n",
       "      <td>319</td>\n",
       "      <td>4.0</td>\n",
       "    </tr>\n",
       "    <tr>\n",
       "      <th>6</th>\n",
       "      <td>LOUIS DEVIN</td>\n",
       "      <td>Silicone Strap Analog Wrist Watch for Men (Bla...</td>\n",
       "      <td>397</td>\n",
       "      <td>3.8</td>\n",
       "    </tr>\n",
       "    <tr>\n",
       "      <th>7</th>\n",
       "      <td>NIBOSI</td>\n",
       "      <td>Watch for Men Fashion Business Men Watches Ult...</td>\n",
       "      <td>2,599</td>\n",
       "      <td>4.3</td>\n",
       "    </tr>\n",
       "    <tr>\n",
       "      <th>8</th>\n",
       "      <td>Fire-Boltt</td>\n",
       "      <td>Fire-Boltt Ninja Call Pro Plus 1.83\" Smart Wat...</td>\n",
       "      <td>1,699</td>\n",
       "      <td>4.1</td>\n",
       "    </tr>\n",
       "  </tbody>\n",
       "</table>\n",
       "</div>"
      ],
      "text/plain": [
       "            Brand                                              Model   Price  \\\n",
       "0         Citizen    Quartz Analog Black Dial Men's Watch-BI5098-58E   8,434   \n",
       "1         Citizen     Quartz Analog Blue Dial Men's Watch-BI5096-53L   8,444   \n",
       "2  Tommy Hilfiger    Chronograph Analog Watch For Men - NCAK3344TPRG   8,799   \n",
       "3  Tommy Hilfiger          Bank Blue Men Watch TH1791721/NCTH1791721  11,996   \n",
       "4           Casio  Vintage Series Digital Grey Dial Men's Watch-A...   1,441   \n",
       "5        TIMEWEAR  Analog Day Date Functioning Stainless Steel Ch...     319   \n",
       "6     LOUIS DEVIN  Silicone Strap Analog Wrist Watch for Men (Bla...     397   \n",
       "7          NIBOSI  Watch for Men Fashion Business Men Watches Ult...   2,599   \n",
       "8      Fire-Boltt  Fire-Boltt Ninja Call Pro Plus 1.83\" Smart Wat...   1,699   \n",
       "\n",
       "  Rating  \n",
       "0    4.2  \n",
       "1    4.3  \n",
       "2    4.0  \n",
       "3    4.4  \n",
       "4    3.8  \n",
       "5    4.0  \n",
       "6    3.8  \n",
       "7    4.3  \n",
       "8    4.1  "
      ]
     },
     "execution_count": 16,
     "metadata": {},
     "output_type": "execute_result"
    }
   ],
   "source": [
    "df"
   ]
  },
  {
   "cell_type": "code",
   "execution_count": null,
   "id": "fb42208f",
   "metadata": {},
   "outputs": [],
   "source": []
  },
  {
   "cell_type": "code",
   "execution_count": null,
   "id": "601505bf",
   "metadata": {},
   "outputs": [],
   "source": []
  }
 ],
 "metadata": {
  "kernelspec": {
   "display_name": "Python 3",
   "language": "python",
   "name": "python3"
  },
  "language_info": {
   "codemirror_mode": {
    "name": "ipython",
    "version": 3
   },
   "file_extension": ".py",
   "mimetype": "text/x-python",
   "name": "python",
   "nbconvert_exporter": "python",
   "pygments_lexer": "ipython3",
   "version": "3.9.4"
  }
 },
 "nbformat": 4,
 "nbformat_minor": 5
}
